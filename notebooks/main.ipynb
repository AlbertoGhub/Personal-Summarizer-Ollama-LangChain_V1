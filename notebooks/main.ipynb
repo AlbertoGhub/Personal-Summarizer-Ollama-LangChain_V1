{
 "cells": [
  {
   "cell_type": "markdown",
   "id": "81dd1f30-0bde-47aa-8e0d-80a5c66f77cd",
   "metadata": {},
   "source": [
    "# Importing libraries"
   ]
  },
  {
   "cell_type": "code",
   "execution_count": 1,
   "id": "de5eb791-8356-4c73-8bac-f4081673d226",
   "metadata": {},
   "outputs": [],
   "source": [
    "# Libraries\n",
    "import sys\n",
    "import os\n",
    "\n",
    "# Add the parent directory to sys.path\n",
    "sys.path.append(os.path.abspath('../src'))\n",
    "\n",
    "# Modules\n",
    "from modules.ingesting import ingesting_PDF\n",
    "from modules.vector_store_module    import chunk_documents, add_to_vector_store\n",
    "\n",
    "# Retrival (summirising):\n",
    "from langchain.prompts                  import ChatPromptTemplate, PromptTemplate\n",
    "from langchain_core.output_parsers      import StrOutputParser\n",
    "from langchain_core.runnables           import RunnablePassthrough\n",
    "from langchain_ollama                   import ChatOllama\n",
    "from langchain.retrievers.multi_query   import MultiQueryRetriever"
   ]
  },
  {
   "cell_type": "markdown",
   "id": "f715e2da-f758-4d02-8ad7-08e152284d47",
   "metadata": {},
   "source": [
    "# Loading docs"
   ]
  },
  {
   "cell_type": "code",
   "execution_count": 2,
   "id": "eba45643-fb6e-42f0-aaea-5619432a205d",
   "metadata": {},
   "outputs": [
    {
     "name": "stdout",
     "output_type": "stream",
     "text": [
      "Loading the document...\n",
      "Document loaded successfully!!!\n"
     ]
    }
   ],
   "source": [
    "print('Loading the document...')\n",
    "documents = ingesting_PDF('../data/PDFs/Sustainable_development_of_distance_learning_in_continuing_adult_education__The impact_of_artificial_intelligence.pdf')"
   ]
  },
  {
   "cell_type": "markdown",
   "id": "f85b621c-f86c-469f-ab40-e622b2cfad59",
   "metadata": {},
   "source": [
    "# Embedding process\n",
    "- ```Chunking```\n",
    "- Adding to the database ```(Chroma)```\n",
    "- ```RAG (retrival - Summirisation)```\n",
    "\n",
    "## Chunking"
   ]
  },
  {
   "cell_type": "code",
   "execution_count": 3,
   "id": "91eb0252-84e8-438b-94cf-f4d8a4be82e2",
   "metadata": {},
   "outputs": [
    {
     "name": "stdout",
     "output_type": "stream",
     "text": [
      "Chunking the document...\n",
      "Document chunked successfully!!!\n"
     ]
    }
   ],
   "source": [
    "# Chunk the documents\n",
    "chunks = chunk_documents(documents)"
   ]
  },
  {
   "cell_type": "markdown",
   "id": "7c4d9b25-bb17-497f-bafa-1431077e1792",
   "metadata": {},
   "source": [
    "## Add chunks to the vector store"
   ]
  },
  {
   "cell_type": "code",
   "execution_count": 4,
   "id": "5249138b-5173-4fc1-b9cc-54ba8c1082f0",
   "metadata": {},
   "outputs": [
    {
     "name": "stdout",
     "output_type": "stream",
     "text": [
      "Adding to vector database...\n",
      "Document added to vector database successfully!!!\n"
     ]
    }
   ],
   "source": [
    "vector_store = add_to_vector_store(chunks)"
   ]
  },
  {
   "cell_type": "markdown",
   "id": "fe72e786-657c-4ec6-8034-f01f49048d6a",
   "metadata": {},
   "source": [
    "## RAG (retrival - Summirisation)"
   ]
  },
  {
   "cell_type": "code",
   "execution_count": 5,
   "id": "b2de46ca-c6f8-4a96-806e-375ec4e6ae8a",
   "metadata": {},
   "outputs": [],
   "source": [
    "# LLM from Ollama\n",
    "llm = ChatOllama(model = 'gemma2') # gemma2 is faster, but llama3.2 is more comprehe"
   ]
  },
  {
   "cell_type": "markdown",
   "id": "ec117328-ed1b-4872-bc14-36b415df0522",
   "metadata": {},
   "source": [
    "### Prompt"
   ]
  },
  {
   "cell_type": "code",
   "execution_count": 6,
   "id": "21e6fcfc-ef5d-44cc-b332-8283091f8c1a",
   "metadata": {},
   "outputs": [],
   "source": [
    "prompt = PromptTemplate(\n",
    "    input_variables=['question'],\n",
    "    template = \"\"\"You are an AI assistant. Your task is to summarise the text coming from the input PDF, providing a\n",
    "    summary in the form of a paragraph. The summary should be a concise and coherent representation of the main ideas of the text, including the \n",
    "    analysis of the text where the main points and the key arguments are shown. Additionally, the user will prompt a question and the second \n",
    "    task you will do after providing a summary is to generate five different versions of the given questions to retrieve the relevant documents \n",
    "    from a vector database. By generating multiple perspectives on the user's question, you can help the user to explore the text from \n",
    "    different angles, aiming to help the final goal of overcoming the limitations of the distance-based similarity search. Provide these \n",
    "    alternative questions separated by a new line. Original question: {question}\"\"\",\n",
    ")"
   ]
  },
  {
   "cell_type": "markdown",
   "id": "22e39df5-6358-4bee-be6f-a18ab162381d",
   "metadata": {},
   "source": [
    "### Retrival"
   ]
  },
  {
   "cell_type": "code",
   "execution_count": 7,
   "id": "80c49a60-eea0-479a-a8b9-1eb49bcb0947",
   "metadata": {},
   "outputs": [],
   "source": [
    "retriever = MultiQueryRetriever.from_llm(\n",
    "    vector_store.as_retriever(),\n",
    "    llm,\n",
    "    prompt = prompt,\n",
    ")"
   ]
  },
  {
   "cell_type": "markdown",
   "id": "7fa3e8a7-c858-4752-9150-9bf15dfee527",
   "metadata": {},
   "source": [
    "### RAG prompt (to answer only on the given context):"
   ]
  },
  {
   "cell_type": "code",
   "execution_count": 8,
   "id": "584b2e15-0ba7-4cb3-b9b6-c47b68978eab",
   "metadata": {},
   "outputs": [],
   "source": [
    "template = \"\"\"Summarise and Answer the questions ONLY on the following context: {context}\n",
    "Question: {question}\n",
    "\"\"\"\n",
    "prompt = ChatPromptTemplate.from_template(template)"
   ]
  },
  {
   "cell_type": "markdown",
   "id": "745bffc0-5120-4587-8283-22b4c1a443b1",
   "metadata": {},
   "source": [
    "### Chain (Joining all the answers)"
   ]
  },
  {
   "cell_type": "code",
   "execution_count": 9,
   "id": "9b7f976e-3b8d-4b36-b09c-d6d8b2574f16",
   "metadata": {},
   "outputs": [],
   "source": [
    "chain = (\n",
    "    {\"context\": retriever, \"question\": RunnablePassthrough()}\n",
    "    | prompt\n",
    "    | llm\n",
    "    | StrOutputParser()\n",
    ")"
   ]
  },
  {
   "cell_type": "markdown",
   "id": "e324264d-6604-43a3-b3db-c993dbc6ffaf",
   "metadata": {},
   "source": [
    "# Running the chain (Chatting):\n",
    "\n",
    "In this section, to enable interactivity, the following command can be used:\n",
    "\n",
    "```response = chain.invoke({\"question\": input(\"Enter the question:\\n\")})```\n",
    "\n",
    "However, for the sake of simplicity, the question is provided directly in the notebook.\n",
    "\n",
    "## Question 1"
   ]
  },
  {
   "cell_type": "code",
   "execution_count": 10,
   "id": "e02005cd-c68a-416a-8154-163b5589a93c",
   "metadata": {},
   "outputs": [
    {
     "name": "stdout",
     "output_type": "stream",
     "text": [
      "The central theme of the paper is the **impact of artificial intelligence (AI) on the sustainable development of distance learning in continuing adult education.** \n",
      "\n",
      "The authors explore how AI-powered tools enhance personalization, interaction, and accessibility in online learning, ultimately contributing to a more inclusive and effective educational experience for adults. They also highlight the alignment of AI integration with the principles of sustainable development, emphasizing its role in reducing inequalities and promoting lifelong learning.  \n",
      "\n"
     ]
    }
   ],
   "source": [
    "response = chain.invoke('What is the central theme of the paper?')\n",
    "print(response)"
   ]
  },
  {
   "cell_type": "markdown",
   "id": "e2458de4-0c5b-4efd-a9bb-0a05b2e9a077",
   "metadata": {},
   "source": [
    "## Question 2"
   ]
  },
  {
   "cell_type": "code",
   "execution_count": 11,
   "id": "8921d197-8960-46f4-9d5f-8cd76416c150",
   "metadata": {},
   "outputs": [
    {
     "name": "stdout",
     "output_type": "stream",
     "text": [
      "This text excerpt highlights several ways AI is changing adult education:\n",
      "\n",
      "* **Personalized Learning:** AI tailors content and assessments to individual learning styles and paces, making education more effective and engaging. \n",
      "* **Enhanced Interaction:**  AI enables both synchronous (real-time) and asynchronous communication, improving student engagement and interaction with educators.\n",
      "* **Real-Time Feedback:**  AI provides immediate feedback on assignments and progress, helping learners identify areas for improvement and stay motivated.\n",
      "* **Accessibility:** AI makes educational resources more accessible to a wider range of learners, regardless of their background or circumstances.\n",
      "* **Increased Efficiency:** AI automates administrative tasks for educators, freeing up their time to focus on teaching and student interaction.\n",
      "\n",
      "**Overall, AI is making adult education more personalized, engaging, efficient, and accessible.**\n",
      "\n",
      "\n",
      "Let me know if you have any other questions about the text! \n",
      "\n"
     ]
    }
   ],
   "source": [
    "response = chain.invoke('How is AI changing adult education?')\n",
    "print(response)"
   ]
  },
  {
   "cell_type": "markdown",
   "id": "c7ab147a-4a01-435f-b275-572836930bea",
   "metadata": {},
   "source": [
    "## Question 3"
   ]
  },
  {
   "cell_type": "code",
   "execution_count": 12,
   "id": "e34b35a3-ac9f-4ee1-96fb-e7291ea682da",
   "metadata": {},
   "outputs": [
    {
     "name": "stdout",
     "output_type": "stream",
     "text": [
      "While the provided text discusses AI's impact on distance learning and mentions personalization, it doesn't explicitly define \"adaptive learning.\" \n",
      "\n",
      "However, based on the context and general understanding of AI in education, we can infer that **adaptive learning** refers to a system where:\n",
      "\n",
      "* **AI algorithms analyze learner data:** This data could include performance on quizzes, time spent on tasks, areas of difficulty, and even learning styles.\n",
      "* **The learning experience adjusts accordingly:** Based on the analyzed data, the AI system tailors the content, pace, and difficulty level to each individual learner's needs. \n",
      "\n",
      "Essentially, adaptive learning uses AI to create a personalized learning path for each student, ensuring they are challenged appropriately and receive targeted support where needed.  \n",
      "\n",
      "\n",
      "Let me know if you have any other questions! \n",
      "\n"
     ]
    }
   ],
   "source": [
    "response = chain.invoke('What is \"adaptive learning\" in AI contexts?')\n",
    "print(response)"
   ]
  },
  {
   "cell_type": "markdown",
   "id": "1890ec6a-6a63-4970-b610-a1dce17aa72d",
   "metadata": {},
   "source": [
    "## Question 4"
   ]
  },
  {
   "cell_type": "code",
   "execution_count": 13,
   "id": "e82b9d5b-a5f4-4487-b8c6-c5a2e490d594",
   "metadata": {},
   "outputs": [
    {
     "name": "stdout",
     "output_type": "stream",
     "text": [
      "The text you provided highlights the importance of ethical considerations in using AI in education, but it doesn't offer specific steps institutions can take to ensure ethical AI use. \n",
      "\n",
      "Here are some ways institutions can work towards ethical AI implementation:\n",
      "\n",
      "**1. Develop a Clear AI Ethics Policy:**\n",
      "\n",
      "* **Define Principles:** Establish guiding principles for AI development and deployment that prioritize fairness, transparency, accountability, privacy, and human well-being.\n",
      "* **Data Governance:** Implement robust data governance policies that address data collection, storage, use, and sharing practices. Ensure compliance with relevant privacy regulations.\n",
      "* **Bias Mitigation:**  Actively work to identify and mitigate potential biases in AI algorithms and datasets. This may involve using diverse datasets, employing bias detection tools, and involving stakeholders from different backgrounds in the development process.\n",
      "\n",
      "**2.  Promote Transparency and Explainability:**\n",
      "\n",
      "* **Explainable AI (XAI):**  Prioritize the use of AI models that offer some level of transparency and explainability. This allows users to understand how AI systems arrive at their decisions.\n",
      "* **Documentation and Communication:** Clearly document how AI systems are used, including their limitations and potential biases. Communicate these aspects transparently to students, educators, and the wider community.\n",
      "\n",
      "**3.  Ensure Human Oversight and Control:**\n",
      "\n",
      "* **Human-in-the-Loop Systems:** Design AI systems that involve human decision-making at critical stages. This helps prevent unintended consequences and allows for ethical considerations to be incorporated.\n",
      "* **Accountability Mechanisms:** Establish clear lines of responsibility for AI-related decisions and outcomes. Implement mechanisms for addressing concerns, complaints, and potential harm caused by AI systems.\n",
      "\n",
      "**4.  Foster Education and Training:**\n",
      "\n",
      "* **Educate Stakeholders:** Provide training for educators, administrators, and students on the ethical implications of AI in education.\n",
      "* **Promote Critical Thinking:** Encourage critical thinking skills among students regarding AI technologies, their limitations, and potential societal impacts.\n",
      "\n",
      "\n",
      "**5.  Engage in Ongoing Evaluation and Improvement:**\n",
      "\n",
      "* **Monitor Impact:** Regularly assess the impact of AI systems on student outcomes, equity, and overall well-being. Collect feedback from stakeholders to identify areas for improvement.\n",
      "* **Adapt and Refine:** Be prepared to adapt AI policies, practices, and systems based on ongoing evaluation, emerging ethical challenges, and technological advancements. \n",
      "\n",
      "\n",
      "Remember, ethical AI implementation is an ongoing process that requires continuous attention, collaboration, and a commitment to upholding human values.\n"
     ]
    }
   ],
   "source": [
    "response = chain.invoke('How can institutions ensure ethical AI use?')\n",
    "print(response)"
   ]
  },
  {
   "cell_type": "markdown",
   "id": "168c7e01-43ed-48ae-8310-820b386428d3",
   "metadata": {},
   "source": [
    "## Question 5"
   ]
  },
  {
   "cell_type": "code",
   "execution_count": 14,
   "id": "14cbac02-c7c2-4b2b-b457-5aac155dc9e9",
   "metadata": {},
   "outputs": [
    {
     "name": "stdout",
     "output_type": "stream",
     "text": [
      "While the text you provided doesn't directly address how AI reshapes teacher roles, we can infer some possibilities based on its discussion of AI in education.\n",
      "\n",
      "Here are some ways AI could reshape teacher roles:\n",
      "\n",
      "* **From direct instruction to personalized guidance:** AI-powered systems can handle repetitive tasks like delivering basic information or grading simple assignments, freeing up teachers to focus on individualized instruction, mentoring, and addressing complex learning needs. \n",
      "* **Data-driven insights for tailored support:** AI algorithms can analyze student performance data to identify strengths, weaknesses, and learning patterns. Teachers can leverage these insights to create personalized learning plans and interventions.\n",
      "* **Enhanced collaboration and communication:** AI tools can facilitate communication between teachers and students, automate administrative tasks, and connect educators with professional development resources, enabling them to collaborate more effectively.\n",
      "\n",
      "However, it's important to note that AI is a tool, not a replacement for human teachers.  The text emphasizes the importance of  teachers providing personalized learning experiences, addressing complex needs, and fostering meaningful relationships with students - aspects that are uniquely human. \n",
      "\n",
      "\n",
      "Let me know if you have any other questions about AI in education! \n",
      "\n"
     ]
    }
   ],
   "source": [
    "response = chain.invoke('How is AI reshaping teacher roles?')\n",
    "print(response)"
   ]
  },
  {
   "cell_type": "markdown",
   "id": "735c995a-f095-4a90-8411-ef1ffc7e8caa",
   "metadata": {},
   "source": [
    "## Question 6"
   ]
  },
  {
   "cell_type": "code",
   "execution_count": 15,
   "id": "ced2c761-12b4-43c5-ad9e-88db7f636a95",
   "metadata": {},
   "outputs": [
    {
     "name": "stdout",
     "output_type": "stream",
     "text": [
      "The text highlights several roles educators play in AI-integrated distance learning systems:\n",
      "\n",
      "* **Focus on Teaching and Interaction:** AI can automate administrative tasks and provide data analytics, freeing up educators to focus more on teaching and student interaction. \n",
      "* **Personalized Learning Support:** Educators can utilize AI's personalized learning capabilities to tailor content and assessments to individual student needs.\n",
      "* **Leveraging Feedback Mechanisms:** Real-time feedback provided by AI systems can be used by educators to guide student learning and address areas needing improvement.\n",
      "\n",
      "In essence, AI augments educators' roles, allowing them to become more facilitators of learning, mentors, and guides rather than solely task managers and content deliverers. \n",
      "\n",
      "\n",
      "Let me know if you have any other questions about the text!\n"
     ]
    }
   ],
   "source": [
    "response = chain.invoke('What is the role of educators in AI-integrated systems?')\n",
    "print(response)"
   ]
  }
 ],
 "metadata": {
  "kernelspec": {
   "display_name": "Python 3 (ipykernel)",
   "language": "python",
   "name": "python3"
  },
  "language_info": {
   "codemirror_mode": {
    "name": "ipython",
    "version": 3
   },
   "file_extension": ".py",
   "mimetype": "text/x-python",
   "name": "python",
   "nbconvert_exporter": "python",
   "pygments_lexer": "ipython3",
   "version": "3.10.16"
  }
 },
 "nbformat": 4,
 "nbformat_minor": 5
}
